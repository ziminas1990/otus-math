{
 "cells": [
  {
   "cell_type": "code",
   "execution_count": 59,
   "metadata": {},
   "outputs": [],
   "source": [
    "import urllib.request\n",
    "import numpy as np\n",
    "from sklearn.linear_model import LinearRegression"
   ]
  },
  {
   "cell_type": "code",
   "execution_count": 114,
   "metadata": {},
   "outputs": [],
   "source": [
    "# Функция выгружает данные из указанного URL (сами url приведены в домашнем задании)\n",
    "def inputData(url):\n",
    "    data = urllib.request.urlopen(url)\n",
    "    regressorsArray = []\n",
    "    predicatorsArray = []\n",
    "\n",
    "    for line in data: # files are iterable\n",
    "        row = line.split()\n",
    "        regressorsArray.append(eval(row[0]))\n",
    "        regressorsArray.append(eval(row[1]))\n",
    "        predicatorsArray.append(eval(row[2]))\n",
    "    \n",
    "    regressors = np.array(regressorsArray).reshape(-1, 2)\n",
    "    predicators = np.array(predicatorsArray)\n",
    "    return regressors, predicators\n",
    "\n",
    "# Функция производит нелинейную трансформацию как требуется в домашнем задании\n",
    "# Зачем это нужно на вебинарах, конечно же, не поясняется\n",
    "def transformMatrix(matrix):\n",
    "    result = []\n",
    "    for row in matrix:\n",
    "        x = [row[0], row[1]]\n",
    "        result.extend([1, x[0], x[1], x[0] * x[0], x[1] * x[1], x[0] * x[1], abs(x[0] - x[1]), abs(x[1] - x[0])])\n",
    "    return np.array(result).reshape(-1, 8)\n",
    "        \n",
    "# Проверяет, что классификация точки проведена верно (у них одинаковый знак)\n",
    "def isHit(a, b):\n",
    "    return (a > 0 and b > 0) or (a < 0 and b < 0)\n",
    "    \n",
    "# Возвращает долю ошибочно классифицрованных точек\n",
    "def classificationScore(model, regressors, expectedValues):\n",
    "    actualValues = model.predict(regressors)\n",
    "    total = expectedValues.size\n",
    "    misses = 0;\n",
    "    for i in range(total):\n",
    "        if not isHit(expectedValues[i], actualValues[i]):\n",
    "            misses = misses + 1\n",
    "    return misses/total"
   ]
  },
  {
   "cell_type": "code",
   "execution_count": 122,
   "metadata": {},
   "outputs": [
    {
     "name": "stdout",
     "output_type": "stream",
     "text": [
      "Ein ~ 2.9%\n"
     ]
    }
   ],
   "source": [
    "# Загружаем исходные данные\n",
    "regressors, predicators = inputData(\"http://work.caltech.edu/data/in.dta\")\n",
    "regressors = transformMatrix(regressors)\n",
    "\n",
    "# Вычисляем коэффициенты линейной регрессии\n",
    "model = LinearRegression().fit(regressors, predicators)\n",
    "\n",
    "# Посмотрим, сколько ошибок выдаётся на обучающей выборке:\n",
    "Ein = classificationScore(model, regressors, predicators);\n",
    "print(F\"Ein ~ {Ein*100:.2}%\")"
   ]
  },
  {
   "cell_type": "code",
   "execution_count": 123,
   "metadata": {},
   "outputs": [
    {
     "name": "stdout",
     "output_type": "stream",
     "text": [
      "Eout ~ 8.8%\n"
     ]
    }
   ],
   "source": [
    "# Считаем тестовую выборку\n",
    "regressors, predicators = inputData(\"http://work.caltech.edu/data/out.dta\")\n",
    "regressors = transformMatrix(regressors)\n",
    "\n",
    "# Посмотрим, сколько ошибок выдаётся на обучающей выборке:\n",
    "Eout = classificationScore(model, regressors, predicators);\n",
    "print(F\"Eout ~ {Eout*100:.2}%\")"
   ]
  }
 ],
 "metadata": {
  "kernelspec": {
   "display_name": "Python 3",
   "language": "python",
   "name": "python3"
  },
  "language_info": {
   "codemirror_mode": {
    "name": "ipython",
    "version": 3
   },
   "file_extension": ".py",
   "mimetype": "text/x-python",
   "name": "python",
   "nbconvert_exporter": "python",
   "pygments_lexer": "ipython3",
   "version": "3.7.4"
  }
 },
 "nbformat": 4,
 "nbformat_minor": 2
}

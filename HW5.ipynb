{
 "cells": [
  {
   "cell_type": "code",
   "execution_count": 64,
   "metadata": {},
   "outputs": [],
   "source": [
    "import numpy as np\n",
    "from numpy import array\n",
    "from scipy.linalg import svd\n",
    "\n",
    "# Выводит на экран матрицу так, как мне нравится\n",
    "def printPrettyMatrix(matrix, name=\"\"):\n",
    "    if name:\n",
    "        print(F\"{name} ({matrix.shape[0]}x{matrix.shape[1]}):\")\n",
    "    for row in matrix:\n",
    "        for cell in row:\n",
    "            print(F\"{cell:6.2f}  \", end = '')\n",
    "        print(\"\")\n",
    "    print(\"\")\n",
    "        \n",
    "# Строит матрицу rows x columns и заполняет её диагональ элементами\n",
    "# из вектора diagValues\n",
    "def buildDiagonalMatrix(rows, columns, diagValues):\n",
    "    matrix = [[0 for x in range(rows)] for y in range(columns)]\n",
    "    i = 0\n",
    "    for diagCell in diagValues:\n",
    "        matrix[i][i] = diagCell\n",
    "        i = i + 1\n",
    "    return array(matrix)\n",
    "\n",
    "# Выполняет домашнее задание и красиво всё выводит\n",
    "def doHomework(matrix, matrixName):\n",
    "    # Выполняем SVD-разложение\n",
    "    U, Sdiag, VT = svd(A)\n",
    "    S = buildDiagonalMatrix(VT.shape[0], U.shape[1], Sdiag)\n",
    "    \n",
    "    # Выведем на экран исходную матрицу, а так же\n",
    "    # матрицы U, S и VT\n",
    "    printPrettyMatrix(A, matrixName)\n",
    "    printPrettyMatrix(U, \"U\")\n",
    "    printPrettyMatrix(S, \"S\")\n",
    "    printPrettyMatrix(VT, \"VT\")\n",
    "    \n",
    "    # Попробуем восстановить исходную матрицу и её так же выведем\n",
    "    R = np.matmul(np.matmul(U, S), VT)\n",
    "    printPrettyMatrix(R, F\"Restored {matrixName}\")"
   ]
  },
  {
   "cell_type": "code",
   "execution_count": 65,
   "metadata": {},
   "outputs": [
    {
     "name": "stdout",
     "output_type": "stream",
     "text": [
      "A (3x5):\n",
      "  5.00    7.00    6.00    4.00    2.00  \n",
      "  1.00    3.00    4.00    1.00    3.00  \n",
      "  3.00    4.00    5.00    4.00    1.00  \n",
      "\n",
      "U (3x3):\n",
      " -0.76    0.23   -0.61  \n",
      " -0.36   -0.93    0.10  \n",
      " -0.54    0.29    0.79  \n",
      "\n",
      "S (3x5):\n",
      " 14.95    0.00    0.00    0.00    0.00  \n",
      "  0.00    2.73    0.00    0.00    0.00  \n",
      "  0.00    0.00    1.46    0.00    0.00  \n",
      "\n",
      "VT (5x5):\n",
      " -0.39   -0.57   -0.58   -0.37   -0.21  \n",
      "  0.41    0.02   -0.30    0.44   -0.74  \n",
      " -0.39   -0.55    0.47    0.56   -0.09  \n",
      " -0.44    0.37   -0.53    0.55    0.30  \n",
      "  0.58   -0.49   -0.26    0.23    0.56  \n",
      "\n",
      "Restored A (3x5):\n",
      "  5.00    7.00    6.00    4.00    2.00  \n",
      "  1.00    3.00    4.00    1.00    3.00  \n",
      "  3.00    4.00    5.00    4.00    1.00  \n",
      "\n"
     ]
    }
   ],
   "source": [
    "doHomework([[3, 7], [5, 2], [5, 6]], \"A\")"
   ]
  },
  {
   "cell_type": "code",
   "execution_count": 62,
   "metadata": {},
   "outputs": [
    {
     "name": "stdout",
     "output_type": "stream",
     "text": [
      "A (3x3):\n",
      "  0.00    1.00    3.00  \n",
      "  2.00    3.00    1.00  \n",
      "  0.00    1.00    0.00  \n",
      "\n",
      "U (3x3):\n",
      " -0.57    0.82    0.04  \n",
      " -0.81   -0.54   -0.23  \n",
      " -0.17   -0.17    0.97  \n",
      "\n",
      "S (3x3):\n",
      "  4.34    0.00    0.00  \n",
      "  0.00    2.42    0.00  \n",
      "  0.00    0.00    0.57  \n",
      "\n",
      "VT (3x3):\n",
      " -0.37   -0.73   -0.58  \n",
      " -0.45   -0.40    0.80  \n",
      " -0.81    0.56   -0.18  \n",
      "\n",
      "R (3x3):\n",
      "  0.00    1.00    3.00  \n",
      "  2.00    3.00    1.00  \n",
      "  0.00    1.00    0.00  \n",
      "\n"
     ]
    }
   ],
   "source": [
    "doHomework([[0, 1, 3], [2, 3, 1], [0, 1, 0]], \"B\")"
   ]
  },
  {
   "cell_type": "code",
   "execution_count": 66,
   "metadata": {},
   "outputs": [
    {
     "name": "stdout",
     "output_type": "stream",
     "text": [
      "C (3x5):\n",
      "  5.00    7.00    6.00    4.00    2.00  \n",
      "  1.00    3.00    4.00    1.00    3.00  \n",
      "  3.00    4.00    5.00    4.00    1.00  \n",
      "\n",
      "U (3x3):\n",
      " -0.76    0.23   -0.61  \n",
      " -0.36   -0.93    0.10  \n",
      " -0.54    0.29    0.79  \n",
      "\n",
      "S (3x5):\n",
      " 14.95    0.00    0.00    0.00    0.00  \n",
      "  0.00    2.73    0.00    0.00    0.00  \n",
      "  0.00    0.00    1.46    0.00    0.00  \n",
      "\n",
      "VT (5x5):\n",
      " -0.39   -0.57   -0.58   -0.37   -0.21  \n",
      "  0.41    0.02   -0.30    0.44   -0.74  \n",
      " -0.39   -0.55    0.47    0.56   -0.09  \n",
      " -0.44    0.37   -0.53    0.55    0.30  \n",
      "  0.58   -0.49   -0.26    0.23    0.56  \n",
      "\n",
      "Restored C (3x5):\n",
      "  5.00    7.00    6.00    4.00    2.00  \n",
      "  1.00    3.00    4.00    1.00    3.00  \n",
      "  3.00    4.00    5.00    4.00    1.00  \n",
      "\n"
     ]
    }
   ],
   "source": [
    "doHomework([[5, 7, 6, 4, 2], [1, 3, 4, 1, 3], [3, 4, 5, 4, 1]], \"C\")"
   ]
  }
 ],
 "metadata": {
  "kernelspec": {
   "display_name": "Python 3",
   "language": "python",
   "name": "python3"
  },
  "language_info": {
   "codemirror_mode": {
    "name": "ipython",
    "version": 3
   },
   "file_extension": ".py",
   "mimetype": "text/x-python",
   "name": "python",
   "nbconvert_exporter": "python",
   "pygments_lexer": "ipython3",
   "version": "3.7.4"
  }
 },
 "nbformat": 4,
 "nbformat_minor": 2
}
